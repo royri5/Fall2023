{
 "cells": [
  {
   "cell_type": "code",
   "execution_count": null,
   "metadata": {},
   "outputs": [],
   "source": [
    "# Author: Richard Roy\n",
    "# Date: 11/28/2023\n",
    "\n",
    "#longest common subsequence\n",
    "#using dynamic programming\n",
    "def lcs(string1, string2):\n",
    "    str1len = len(string1)\n",
    "    str2len = len(string2)\n",
    "    \n",
    "\n",
    "    #2d arr for table\n",
    "    lcd = [[0]*str2len+1]*str1len+1\n",
    "\n",
    "    for str2index in range(1, str2len+1):\n",
    "        for str1index in range(1, str1len+1):\n",
    "            if string2[str2index-1] == string1[str1index-1]:\n",
    "                lcd[str2index][str1index] = lcd[str2index-1][str1index-1]+1\n",
    "            else:\n",
    "                if lcd[str2index-1][str1index] >= lcd[str2index][str1index-1]:\n",
    "                    lcd[str2index][str1index] = lcd[str2index-1][str1index]\n",
    "                else:\n",
    "                    lcd[str2index][str1index] = lcd[str2index][str1index-1]\n",
    "\n",
    "    #backtrack to find the common subsequence\n",
    "    #print like \"Output: 4, ABCD\"\n",
    "    #check the value of the cell above and to the left\n",
    "    #if both and the current cell are the same, then the current cell is not part of the subsequence\n",
    "\n",
    "    #TODO: implement backtrack for printing the subsequence\n",
    "    commonsubsequence = \"\"\n",
    "    for str2index in reversed(range(1, str2len+1)):\n",
    "        for str1index in reversed(range(1, str1len+1)):\n",
    "            if lcd[str2index-1][str1index] != lcd[str2index][str1index] and lcd[str2index][str1index-1] != lcd[str2index][str1index]:\n",
    "                commonsubsequence += string1[str1index-1]\n",
    "                break\n",
    "            \n",
    "    print(\"Output: \", lcd[str2len][str1len], \" \", commonsubsequence)\n",
    "\n",
    "\n",
    "            \n",
    "\n"
   ]
  }
 ],
 "metadata": {
  "language_info": {
   "name": "python"
  }
 },
 "nbformat": 4,
 "nbformat_minor": 2
}
