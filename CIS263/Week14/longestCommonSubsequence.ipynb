{
 "cells": [
  {
   "cell_type": "code",
   "execution_count": null,
   "metadata": {},
   "outputs": [],
   "source": [
    "# Author: Richard Roy\n",
    "# Date: 11/28/2023\n",
    "\n",
    "#longest common subsequence\n",
    "#using dynamic programming\n",
    "def lcs(string1, string2):\n",
    "    str1len = len(string1)\n",
    "    str2len = len(string2)\n",
    "\n",
    "    #2d arr for table\n",
    "    dp_tbl = [[0 for char1 in range(str2len+1)] for char2 in range(str1len+1)]\n",
    "\n",
    "    #filling tbl\n",
    "    for i in range(str1len+1):\n",
    "        for j in range(str2len+1):\n",
    "            if i == 0 or j == 0:\n",
    "                dp_tbl[i][j] = 0 #filling first row and col with 0\n",
    "            \n",
    "\n"
   ]
  }
 ],
 "metadata": {
  "language_info": {
   "name": "python"
  }
 },
 "nbformat": 4,
 "nbformat_minor": 2
}
